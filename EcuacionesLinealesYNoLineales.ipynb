{
  "nbformat": 4,
  "nbformat_minor": 0,
  "metadata": {
    "colab": {
      "provenance": [],
      "authorship_tag": "ABX9TyOQiCZciKzSVfXfjtqaGSMw",
      "include_colab_link": true
    },
    "kernelspec": {
      "name": "python3",
      "display_name": "Python 3"
    },
    "language_info": {
      "name": "python"
    }
  },
  "cells": [
    {
      "cell_type": "markdown",
      "metadata": {
        "id": "view-in-github",
        "colab_type": "text"
      },
      "source": [
        "<a href=\"https://colab.research.google.com/github/ingrid1017/PracticaEcuaciones/blob/main/EcuacionesLinealesYNoLineales.ipynb\" target=\"_parent\"><img src=\"https://colab.research.google.com/assets/colab-badge.svg\" alt=\"Open In Colab\"/></a>"
      ]
    },
    {
      "cell_type": "markdown",
      "source": [
        "#Ejercicio 1: Sistema de Ecuaciones Lineales"
      ],
      "metadata": {
        "id": "8X0CmiVO6I1_"
      }
    },
    {
      "cell_type": "code",
      "execution_count": 1,
      "metadata": {
        "id": "PrzGpTao4cWn"
      },
      "outputs": [],
      "source": [
        "import torch\n",
        "import torch.nn as nn\n",
        "import torch.optim as optim"
      ]
    },
    {
      "cell_type": "code",
      "source": [
        "# Definimos una red neuronal simple para el sistema lineal\n",
        "class LinearSystemNN(nn.Module):\n",
        "  def __init__(self):\n",
        "    super(LinearSystemNN, self).__init__()\n",
        "    self.x = nn.Parameter(torch.randn(1, requires_grad=True))\n",
        "    self.y = nn.Parameter(torch.randn(1, requires_grad=True))\n",
        "\n",
        "  def forward(self):\n",
        "    return self.x, self.y"
      ],
      "metadata": {
        "id": "vwNpfD6J4rfX"
      },
      "execution_count": 2,
      "outputs": []
    },
    {
      "cell_type": "code",
      "source": [
        "# Creamos la red y definimos la función de pérdida\n",
        "net = LinearSystemNN()\n",
        "optimizer = optim.Adam(net.parameters(), lr=0.01)"
      ],
      "metadata": {
        "id": "KQuq9EU545eT"
      },
      "execution_count": 3,
      "outputs": []
    },
    {
      "cell_type": "code",
      "source": [
        "# Entrenamiento de la red\n",
        "for epoch in range(1000):\n",
        "  x, y = net()\n",
        "  equation1 = 3 * x + y - 60 # 3x + y = 60\n",
        "  equation2 = 2 * x + 2 * y - 40 # 2x + 2y = 40\n",
        "\n",
        "  loss = (equation1**2 + equation2**2).mean() # Pérdida cuadrática\n",
        "  optimizer.zero_grad()\n",
        "  loss.backward()\n",
        "  optimizer.step()\n",
        "\n",
        "  if epoch % 100 == 0:\n",
        "    print(f\"Epoch {epoch}, Loss: {loss.item()}\")"
      ],
      "metadata": {
        "colab": {
          "base_uri": "https://localhost:8080/"
        },
        "id": "pyjsfwMY46t6",
        "outputId": "a34de51b-1d68-497b-bf34-8242dabfc859"
      },
      "execution_count": 4,
      "outputs": [
        {
          "output_type": "stream",
          "name": "stdout",
          "text": [
            "Epoch 0, Loss: 4555.62890625\n",
            "Epoch 100, Loss: 3852.21728515625\n",
            "Epoch 200, Loss: 3237.277099609375\n",
            "Epoch 300, Loss: 2704.10205078125\n",
            "Epoch 400, Loss: 2245.320068359375\n",
            "Epoch 500, Loss: 1853.8211669921875\n",
            "Epoch 600, Loss: 1522.7591552734375\n",
            "Epoch 700, Loss: 1245.55712890625\n",
            "Epoch 800, Loss: 1015.922119140625\n",
            "Epoch 900, Loss: 827.8672485351562\n"
          ]
        }
      ]
    },
    {
      "cell_type": "code",
      "source": [
        "# Imprimimos la solución aproximada\n",
        "x, y = net()\n",
        "print(f\"Solución aproximada: x = {x.item()}, y = {y.item()}\")"
      ],
      "metadata": {
        "colab": {
          "base_uri": "https://localhost:8080/"
        },
        "id": "CrCwB-oe5LrH",
        "outputId": "fd149a01-35b5-4f6e-9f75-8c3836b8a3c3"
      },
      "execution_count": 5,
      "outputs": [
        {
          "output_type": "stream",
          "name": "stdout",
          "text": [
            "Solución aproximada: x = 8.572288513183594, y = 8.817737579345703\n"
          ]
        }
      ]
    },
    {
      "cell_type": "markdown",
      "source": [
        "#Ejercicio 2: Sistema de Ecuaciones No Lineales"
      ],
      "metadata": {
        "id": "tXWZAHKm5QGg"
      }
    },
    {
      "cell_type": "code",
      "source": [
        "import torch\n",
        "import torch.nn as nn\n",
        "import torch.optim as optim"
      ],
      "metadata": {
        "id": "0etiiv6Y5W8K"
      },
      "execution_count": 6,
      "outputs": []
    },
    {
      "cell_type": "code",
      "source": [
        "# Definimos una red neuronal simple para el sistema no lineal\n",
        "class NonLinearSystemNN(nn.Module):\n",
        "  def __init__(self):\n",
        "    super(NonLinearSystemNN, self).__init__()\n",
        "    self.x = nn.Parameter(torch.randn(1, requires_grad=True))\n",
        "    self.y = nn.Parameter(torch.randn(1, requires_grad=True))\n",
        "\n",
        "  def forward(self):\n",
        "    return self.x, self.y"
      ],
      "metadata": {
        "id": "uHetRQ465mTd"
      },
      "execution_count": 7,
      "outputs": []
    },
    {
      "cell_type": "code",
      "source": [
        "# Creamos la red y definimos la función de pérdida\n",
        "net = NonLinearSystemNN()\n",
        "optimizer = optim.Adam(net.parameters(), lr=0.01)"
      ],
      "metadata": {
        "id": "AjUsIXl95zfr"
      },
      "execution_count": 8,
      "outputs": []
    },
    {
      "cell_type": "code",
      "source": [
        "# Entrenamiento de la red\n",
        "for epoch in range(1000):\n",
        "  x, y = net()\n",
        "  equation1 = x + y - 10 # x + y = 10\n",
        "  equation2 = x**2 + y**2 - 25 # x^2 + y^2 = 25\n",
        "\n",
        "  loss = (equation1**2 + equation2**2).mean() # Pérdida cuadrática\n",
        "  optimizer.zero_grad()\n",
        "  loss.backward()\n",
        "  optimizer.step()\n",
        "\n",
        "  if epoch % 100 == 0:\n",
        "    print(f\"Epoch {epoch}, Loss: {loss.item()}\")"
      ],
      "metadata": {
        "colab": {
          "base_uri": "https://localhost:8080/"
        },
        "id": "ujlqBnSF52u5",
        "outputId": "a6be2028-2ae9-4759-867b-b2c0ad29ee79"
      },
      "execution_count": 9,
      "outputs": [
        {
          "output_type": "stream",
          "name": "stdout",
          "text": [
            "Epoch 0, Loss: 503.4884948730469\n",
            "Epoch 100, Loss: 287.06378173828125\n",
            "Epoch 200, Loss: 149.39620971679688\n",
            "Epoch 300, Loss: 126.5543212890625\n",
            "Epoch 400, Loss: 111.84899139404297\n",
            "Epoch 500, Loss: 97.80223083496094\n",
            "Epoch 600, Loss: 84.96065521240234\n",
            "Epoch 700, Loss: 73.58039093017578\n",
            "Epoch 800, Loss: 63.69850158691406\n",
            "Epoch 900, Loss: 55.2265510559082\n"
          ]
        }
      ]
    },
    {
      "cell_type": "code",
      "source": [
        "# Imprimimos la solución aproximada\n",
        "x, y = net()\n",
        "print(f\"Solución aproximada: x = {x.item()}, y = {y.item()}\")"
      ],
      "metadata": {
        "colab": {
          "base_uri": "https://localhost:8080/"
        },
        "id": "OyAEgn_36EuA",
        "outputId": "424b9fc4-ecaa-48d1-835c-42ee58b30d4a"
      },
      "execution_count": 10,
      "outputs": [
        {
          "output_type": "stream",
          "name": "stdout",
          "text": [
            "Solución aproximada: x = -1.6766124963760376, y = 4.7705769538879395\n"
          ]
        }
      ]
    }
  ]
}